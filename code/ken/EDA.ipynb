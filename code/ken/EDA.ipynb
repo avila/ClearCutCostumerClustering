{
 "cells": [
  {
   "cell_type": "code",
   "execution_count": null,
   "metadata": {},
   "outputs": [],
   "source": [
    "\n",
    "import pandas as pd \n",
    "import numpy as np"
   ]
  },
  {
   "cell_type": "code",
   "execution_count": null,
   "metadata": {},
   "outputs": [],
   "source": [
    "# read data\n",
    "df = pd.read_csv(\n",
    "     \"../../data/01_input/Supermarket_customers.csv\",\n",
    "    delimiter=\"\\t\",              # note: \\t because its a tab separated and not comma separated file\n",
    "    parse_dates=[\"Dt_Customer\"], # parse as dates\n",
    "    dayfirst=True\n",
    ") \n",
    "\n",
    "# transform columns for sane column names\n",
    "df.columns = (df.columns\n",
    "                .str.replace('(?<=[a-z])(?=[A-Z])', '_', regex=True)\n",
    "                .str.lower()\n",
    "             )\n",
    "\n",
    "# remove absurd and yolo for now\n",
    "df = df[~df[\"marital_status\"].isin([\"Absurd\", \"YOLO\"])]\n",
    "\n",
    "# replace alone -> single\n",
    "df[\"marital_status\"] = df[\"marital_status\"].replace(\"Alone\", \"Single\")\n",
    "\n",
    "df.shape"
   ]
  },
  {
   "cell_type": "code",
   "execution_count": null,
   "metadata": {},
   "outputs": [],
   "source": []
  },
  {
   "cell_type": "code",
   "execution_count": null,
   "metadata": {},
   "outputs": [],
   "source": [
    "df.head()"
   ]
  },
  {
   "cell_type": "code",
   "execution_count": null,
   "metadata": {},
   "outputs": [],
   "source": [
    "df.info()"
   ]
  }
 ],
 "metadata": {
  "kernelspec": {
   "display_name": "Python 3",
   "language": "python",
   "name": "python3"
  },
  "language_info": {
   "codemirror_mode": {
    "name": "ipython",
    "version": 3
   },
   "file_extension": ".py",
   "mimetype": "text/x-python",
   "name": "python",
   "nbconvert_exporter": "python",
   "pygments_lexer": "ipython3",
   "version": "3.11.9"
  }
 },
 "nbformat": 4,
 "nbformat_minor": 2
}
